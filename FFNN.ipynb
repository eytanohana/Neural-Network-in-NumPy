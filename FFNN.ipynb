{
 "cells": [
  {
   "cell_type": "markdown",
   "metadata": {},
   "source": [
    "# Feed-Forward Neural Network\n",
    "\n",
    "Note: This notebook already assumes a basic knowledge of neural nets. Things like layers and layer sizes, activation functions, batching, softmax, and so on.\n",
    "\n",
    "By the end of the notebook we are going to create a simple feed-forward neural net that learns to recognize handwritten digits using the [MNIST-dataset](http://yann.lecun.com/exdb/mnist/).\n",
    "\n",
    "We'll first start by training a simple neural network to learn to classify XOR:\n",
    "\n",
    "<table>\n",
    "    <thead><tr><td>a</td><td>b</td><td>a XOR b</td></tr></thead>\n",
    "    <tbody>\n",
    "        <tr><td>0</td><td>0</td><td>0</td></tr>\n",
    "        <tr><td>0</td><td>1</td><td>1</td></tr>\n",
    "        <tr><td>1</td><td>0</td><td>1</td></tr>\n",
    "        <tr><td>1</td><td>1</td><td>0</td></tr>\n",
    "    </tbody>\n",
    "</table>\n",
    "\n",
    "---\n",
    "\n",
    "We'll start by defining the structure of our network:\n",
    "<img src=\"XOR-nn.png\" width=\"60%\">\n",
    "\n",
    "- The first layer (aka the input layer) has two inputs corresponding to $a$ and $b$.\n",
    "- The middle / hidden layer is composed of three neurons.\n",
    "- The final layer (aka the output layer) has two outputs. \n",
    "\n",
    "The output of the neural network is a vector of length 2 where the first entry is the probability of the result being 0 and the second entry is the probability of the result being 1."
   ]
  },
  {
   "cell_type": "markdown",
   "metadata": {},
   "source": [
    "## Feed-Forward\n",
    "\n",
    "It's called a **Feed-Forward Neural Net** because we **feed the input forward** through the network starting at the input layer until the output.\n",
    "\n",
    "Here's how we implement the feed forward algorithm.\n",
    "\n",
    "$$\n",
    "Z_1 = X_1 \\cdot W_1 \\\\\n",
    "X_2 = \\text{ReLU}(Z_1) \\\\\n",
    "Z_2 = X_2 \\cdot W_2 \\\\\n",
    "\\hat{Y} = \\text{Softmax}(Z_2)\n",
    "$$\n",
    "\n",
    "Note: $\\large \\cdot$ represents matrix multiplication.\n",
    "\n",
    "To start we'll get some notation out of the way:\n",
    "1. **X1** is the input. \n",
    "    - It can either be a single instance i.e. \\[0, 0\\] (1 x 2) or a batch of instances \\[[0,0],[0,1],[1,0]] (3 x 2)\n",
    "1. **W1** is the first weight matrix with a shape of (2 x 3)\n",
    "2. **W2** is the second weight matrix with a shape of (3 x 2)"
   ]
  },
  {
   "cell_type": "code",
   "execution_count": 1,
   "metadata": {},
   "outputs": [],
   "source": [
    "%load_ext autoreload\n",
    "%autoreload 2\n",
    "\n",
    "import numpy as np"
   ]
  },
  {
   "cell_type": "code",
   "execution_count": 2,
   "metadata": {},
   "outputs": [],
   "source": [
    "def softmax(X):\n",
    "    exp = np.exp(X - X.max(axis=1, keepdims=True))\n",
    "    return exp / exp.sum(axis=1, keepdims=True)\n",
    "\n",
    "def ReLU(X):\n",
    "    return np.maximum(X, 0)\n",
    "\n",
    "def forward(Ws, X):\n",
    "    X = np.atleast_2d(X)\n",
    "    W1, W2 = Ws\n",
    "    \n",
    "    Z1 = X @ W1\n",
    "    X2 = ReLU(Z1)\n",
    "    Z2 = X2 @ W2\n",
    "    Yhat = softmax(Z2)\n",
    "    return [X, Z1, X2, Yhat]"
   ]
  },
  {
   "cell_type": "code",
   "execution_count": 6,
   "metadata": {},
   "outputs": [
    {
     "name": "stdout",
     "output_type": "stream",
     "text": [
      "[[0 0]\n",
      " [0 1]\n",
      " [1 0]\n",
      " [1 1]] \n",
      "\n",
      "[0 1 1 0]\n"
     ]
    }
   ],
   "source": [
    "X = np.array([[0, 0],\n",
    "              [0, 1],\n",
    "              [1, 0],\n",
    "              [1, 1]])\n",
    "\n",
    "y = np.array([0, 1, 1, 0])\n",
    "\n",
    "print(X, '\\n')\n",
    "print(y)"
   ]
  },
  {
   "cell_type": "code",
   "execution_count": null,
   "metadata": {},
   "outputs": [],
   "source": []
  }
 ],
 "metadata": {
  "kernelspec": {
   "display_name": "deep_learning",
   "language": "python",
   "name": "deep_learning"
  },
  "language_info": {
   "codemirror_mode": {
    "name": "ipython",
    "version": 3
   },
   "file_extension": ".py",
   "mimetype": "text/x-python",
   "name": "python",
   "nbconvert_exporter": "python",
   "pygments_lexer": "ipython3",
   "version": "3.8.3"
  }
 },
 "nbformat": 4,
 "nbformat_minor": 4
}
